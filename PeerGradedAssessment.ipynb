{
 "cells": [
  {
   "cell_type": "markdown",
   "id": "0ab9b926-52b4-47e4-a36a-4a2113ea57f6",
   "metadata": {},
   "source": [
    "# Data Science Tools and Ecosystem"
   ]
  },
  {
   "cell_type": "markdown",
   "id": "c3e8dcc6-e355-4e1c-9cb5-909b21b4075f",
   "metadata": {},
   "source": [
    "In this notebook, Data Science Tools and Ecosystem are summarized."
   ]
  },
  {
   "cell_type": "markdown",
   "id": "687608a3-db1a-477e-b1c3-9419bd78de86",
   "metadata": {},
   "source": [
    "Some of the popular languages that Data Scientists use are:\n",
    "1. Python\n",
    "2. R\n",
    "3. Java"
   ]
  },
  {
   "cell_type": "markdown",
   "id": "ff1007df-24e1-4bd4-802e-7fb9a1f2a564",
   "metadata": {},
   "source": [
    "Some of the commonly used libraries used by Data Scientists include:\n",
    "1. NumPy\n",
    "2. Pandas\n",
    "3. Matplotlib"
   ]
  },
  {
   "cell_type": "markdown",
   "id": "b304f603-00cf-4eb8-a628-a55a137a7868",
   "metadata": {},
   "source": [
    "| Data Science Tools |\n",
    "|---- |\n",
    "Apache Hadoop\n",
    "Apache Spark\n",
    "SAS"
   ]
  },
  {
   "cell_type": "markdown",
   "id": "263b78d5-cc5a-4ac0-b0a9-1e55e18090c2",
   "metadata": {},
   "source": [
    "### Below are a few examples of evaluating arithmetic expressions in Python"
   ]
  },
  {
   "cell_type": "code",
   "execution_count": 3,
   "id": "0e8fdd55-0cb0-4e7b-947c-b381625bd968",
   "metadata": {
    "tags": []
   },
   "outputs": [
    {
     "data": {
      "text/plain": [
       "17"
      ]
     },
     "execution_count": 3,
     "metadata": {},
     "output_type": "execute_result"
    }
   ],
   "source": [
    "# This a simple arithmetic expression to mutiply then add integers\n",
    "(3*4)+5"
   ]
  },
  {
   "cell_type": "code",
   "execution_count": 4,
   "id": "47b02851-9ef7-4b08-a809-32d8126ecdac",
   "metadata": {
    "tags": []
   },
   "outputs": [
    {
     "data": {
      "text/plain": [
       "3.3333333333333335"
      ]
     },
     "execution_count": 4,
     "metadata": {},
     "output_type": "execute_result"
    }
   ],
   "source": [
    "# This will convert 200 minutes to hours by diving by 60\n",
    "200/60"
   ]
  },
  {
   "cell_type": "markdown",
   "id": "6fa88c39-d2b5-4d7b-9f2b-bb9ff0cfdccf",
   "metadata": {},
   "source": [
    "Objectives:\n",
    "- Learn about popular data science languages\n",
    "- Learn about data science libraries\n",
    "- Learn about data science tools"
   ]
  },
  {
   "cell_type": "markdown",
   "id": "052e040f-7321-4eab-a305-017c697def2f",
   "metadata": {},
   "source": [
    "## Author\n",
    "Joseph Ojehumen"
   ]
  },
  {
   "cell_type": "code",
   "execution_count": null,
   "id": "72d0a4d0-ef6d-4599-b0f3-928d1f3ffd61",
   "metadata": {},
   "outputs": [],
   "source": []
  }
 ],
 "metadata": {
  "kernelspec": {
   "display_name": "Python 3 (ipykernel)",
   "language": "python",
   "name": "python3"
  },
  "language_info": {
   "codemirror_mode": {
    "name": "ipython",
    "version": 3
   },
   "file_extension": ".py",
   "mimetype": "text/x-python",
   "name": "python",
   "nbconvert_exporter": "python",
   "pygments_lexer": "ipython3",
   "version": "3.11.5"
  }
 },
 "nbformat": 4,
 "nbformat_minor": 5
}
